{
 "cells": [
  {
   "cell_type": "code",
   "execution_count": 18,
   "id": "ddbe7f48",
   "metadata": {},
   "outputs": [
    {
     "data": {
      "text/plain": [
       "1.0"
      ]
     },
     "execution_count": 18,
     "metadata": {},
     "output_type": "execute_result"
    }
   ],
   "source": [
    "# Prepare Data. Random made up data based on assumptions.\n",
    "\n",
    "import pandas as pd\n",
    "from sklearn.tree import DecisionTreeClassifier         # Decision Tree algorithm\n",
    "from sklearn.model_selection import train_test_split    # For splitting the dataset for training and testing the model\n",
    "from sklearn.metrics import accuracy_score              # For accuracy score\n",
    "\n",
    "music_data = pd.read_csv('music.csv')\n",
    "music_data\n",
    "\n",
    "# Splitting datasets into two sets input and output.\n",
    "\n",
    "X = music_data.drop(columns = ['genre'])               # Input. We are predicting genre\n",
    "y = music_data['genre']                                # Output \n",
    "\n",
    "# Allocating 20% of data for testing. This function returns a tuple so we can unpacket into four variables: X_train, X_test, y_train, y_test.\n",
    "\n",
    "X_train, X_test, y_train, y_test = train_test_split(X, y, test_size = 0.2)\n",
    "\n",
    "model = DecisionTreeClassifier()\n",
    "model.fit(X_train, y_train)\n",
    "\n",
    "#predictions = model.predict([[21,1], [22,0]])          # Genre predictions for 21 year old male and 22 year old female\n",
    "\n",
    "Predictions = model.predict(X_test)\n",
    "\n",
    "# This function returns accuracy score value between 0 to 1.\n",
    "# This function randomly picks data for training and testing. So, everytime we run the program for accuracy score we get different result.\n",
    "\n",
    "score = accuracy_score(y_test, Predictions)\n",
    "score\n",
    "\n",
    "# Accuracy drops if we allocate more data for testing.\n"
   ]
  },
  {
   "cell_type": "code",
   "execution_count": null,
   "id": "b9979b1c",
   "metadata": {},
   "outputs": [],
   "source": []
  }
 ],
 "metadata": {
  "kernelspec": {
   "display_name": "Python 3",
   "language": "python",
   "name": "python3"
  },
  "language_info": {
   "codemirror_mode": {
    "name": "ipython",
    "version": 3
   },
   "file_extension": ".py",
   "mimetype": "text/x-python",
   "name": "python",
   "nbconvert_exporter": "python",
   "pygments_lexer": "ipython3",
   "version": "3.8.8"
  }
 },
 "nbformat": 4,
 "nbformat_minor": 5
}
